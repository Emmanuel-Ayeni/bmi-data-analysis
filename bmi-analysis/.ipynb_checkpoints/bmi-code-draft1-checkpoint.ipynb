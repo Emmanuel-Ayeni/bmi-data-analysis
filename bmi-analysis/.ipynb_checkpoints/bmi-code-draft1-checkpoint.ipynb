{
 "cells": [
  {
   "cell_type": "markdown",
   "id": "3bc5be2e",
   "metadata": {},
   "source": [
    "# Table of Content"
   ]
  },
  {
   "cell_type": "markdown",
   "id": "cfb4c779",
   "metadata": {},
   "source": [
    "BMI Machine Learning Example of Continuous Target Vectors"
   ]
  },
  {
   "cell_type": "markdown",
   "id": "b785e4e4",
   "metadata": {},
   "source": [
    "Steps to Using Machine Learning\n",
    "Import Libraries\n",
    "Load the Dataset\n",
    "Import Libraries"
   ]
  },
  {
   "cell_type": "markdown",
   "id": "ab726179",
   "metadata": {},
   "source": [
    "# Steps to Using Machine Learning\n",
    "1.Import Libraries\n",
    "2.Load the Dataset\n"
   ]
  },
  {
   "cell_type": "markdown",
   "id": "0b52f454",
   "metadata": {},
   "source": [
    "# Import Libraries"
   ]
  },
  {
   "cell_type": "code",
   "execution_count": null,
   "id": "70225093",
   "metadata": {},
   "outputs": [],
   "source": [
    "import numpy as np # linear algebra\n",
    "import pandas as pd # data processing, CSV file I/O (e.g. pd.read_csv)\n",
    "import statsmodels.api as sm\n",
    "%matplotlib inline\n",
    "import matplotlib.pyplot as plt\n",
    "import seaborn as sns\n",
    "from sklearn.linear_model import LinearRegression\n",
    "from sklearn.metrics import r2_score\n",
    "from sklearn.impute import SimpleImputer\n",
    "from sklearn import model_selection\n",
    "from sklearn.model_selection import train_test_split\n",
    "from sklearn.tree import DecisionTreeRegressor\n",
    "from sklearn.ensemble import RandomForestRegressor"
   ]
  },
  {
   "cell_type": "code",
   "execution_count": null,
   "id": "5109c82a",
   "metadata": {},
   "outputs": [],
   "source": [
    "# Load CSV File into DataFrame"
   ]
  },
  {
   "cell_type": "code",
   "execution_count": null,
   "id": "0e4aa47d",
   "metadata": {},
   "outputs": [],
   "source": [
    "# Import all the Data file into PANDAS DataFrame\n",
    "df = pd.read_csv(\"C:\\\\Users\\\\User\\\\Documents\\\\workspace\\\\Machine_lerning\\\\data\\\\bmiAnalysis.csv\")\n",
    "\n",
    "df"
   ]
  },
  {
   "cell_type": "code",
   "execution_count": null,
   "id": "f9ad2c0e",
   "metadata": {},
   "outputs": [],
   "source": [
    "# To test data loaded correctly\n",
    "df.head()"
   ]
  },
  {
   "cell_type": "code",
   "execution_count": null,
   "id": "3ad2d564",
   "metadata": {},
   "outputs": [],
   "source": [
    "df.info() # Quick glance at the data for Missing data. \"Non-Null Count\" all columns compared.\n",
    "          # Check to make sure no NANs in the dataframe"
   ]
  },
  {
   "cell_type": "code",
   "execution_count": null,
   "id": "6f0e5e67",
   "metadata": {},
   "outputs": [],
   "source": [
    "# Dislay all the data attribute names\n",
    "df.columns\n"
   ]
  },
  {
   "cell_type": "code",
   "execution_count": null,
   "id": "24a6f2cd",
   "metadata": {},
   "outputs": [],
   "source": [
    "# Specifying short names for each attribute to reference them clearly\n",
    "df.columns = ['level', 'faculty', 'gender', 'age', 'weight', 'height', 'fam_size',\n",
    "       'bmi', 'income', 'daily_eating', 'fruit_intake', 'bmi_cat',\n",
    "       'bmi_aware', 'sleep_hrs', 'exer_freq',\n",
    "       'req_lifestyle', 'bmi_app',\n",
    "       'normal_bmi']\n",
    "df.columns"
   ]
  },
  {
   "cell_type": "code",
   "execution_count": null,
   "id": "4ef06abe",
   "metadata": {},
   "outputs": [],
   "source": [
    "# Verify the data attribute names changed\n",
    "df"
   ]
  },
  {
   "cell_type": "code",
   "execution_count": null,
   "id": "6fd59371",
   "metadata": {},
   "outputs": [],
   "source": [
    "level = df.loc[:,'level'].values \n",
    "faculty = df.loc[:,'faculty'].values\n",
    "gender = df.loc[:,'gender'].values\n",
    "age = df.loc[:,'age'].values\n",
    "weight = df.loc[:,'weight'].values\n",
    "height = df.loc[:,'height'].values\n",
    "fam_size = df.loc[:,'fam_size'].values\n",
    "bmi = df.loc[:,'bmi'].values\n",
    "income = df.loc[:,'income'].values\n",
    "daily_eating = df.loc[:,'daily_eating'].values\n",
    "fruit_intake = df.loc[:, 'fruit_intake'].values\n",
    "bmi_cat = df.loc[:, 'bmi_cat'].values\n",
    "bmi_aware = df.loc[:, 'bmi_aware'].values\n",
    "sleep_hrs = df.loc[:, 'sleep_hrs'].values\n",
    "exer_freq = df.loc[:, 'exer_freq'].values\n",
    "req_lifestyle = df.loc[:, 'req_lifestyle'].values\n",
    "bmi_app = df.loc[:, 'bmi_app'].values\n",
    "normal_bmi = df.loc[:, 'normal_bmi'].values"
   ]
  },
  {
   "cell_type": "code",
   "execution_count": null,
   "id": "7fd5e94c",
   "metadata": {},
   "outputs": [],
   "source": [
    "bmi"
   ]
  },
  {
   "cell_type": "code",
   "execution_count": null,
   "id": "523bae39",
   "metadata": {},
   "outputs": [],
   "source": [
    "df.describe() # Basic Data statistics Snapshot"
   ]
  },
  {
   "cell_type": "markdown",
   "id": "cfd5b8b6",
   "metadata": {},
   "source": [
    "Checking and Dealing with Missing Data"
   ]
  },
  {
   "cell_type": "code",
   "execution_count": null,
   "id": "d1771662",
   "metadata": {},
   "outputs": [],
   "source": [
    "# Shape of training data (num_rows, num_columns)\n",
    "print(df.shape)\n",
    "\n",
    "# Number of missing values in each column of training data\n",
    "missing_val_count_by_column = (df.isnull().sum())\n",
    "print(missing_val_count_by_column[missing_val_count_by_column > 0])"
   ]
  },
  {
   "cell_type": "markdown",
   "id": "470adce7",
   "metadata": {},
   "source": [
    "# Extract Features matrix and Target vectors from DataFrame"
   ]
  },
  {
   "cell_type": "code",
   "execution_count": null,
   "id": "fbec4afd",
   "metadata": {},
   "outputs": [],
   "source": [
    "# Extract the Useful Features from the df by excluding the Target Column to have\n",
    "# X Features Matrix\n",
    "\n",
    "X = df.drop(['bmi', 'bmi_cat', 'normal_bmi'], axis=1)\n",
    "X"
   ]
  },
  {
   "cell_type": "code",
   "execution_count": null,
   "id": "7fd6dca8",
   "metadata": {},
   "outputs": [],
   "source": [
    " # BMI Data\n",
    "y = df['bmi']\n",
    "y"
   ]
  },
  {
   "cell_type": "code",
   "execution_count": null,
   "id": "76465302",
   "metadata": {},
   "outputs": [],
   "source": [
    "y.describe()"
   ]
  },
  {
   "cell_type": "markdown",
   "id": "84bd2e84",
   "metadata": {},
   "source": [
    "# Data Visualizations"
   ]
  },
  {
   "cell_type": "code",
   "execution_count": null,
   "id": "2bdcc73f",
   "metadata": {},
   "outputs": [],
   "source": [
    "# Useful to the data using multiple visualizations of the Features data"
   ]
  },
  {
   "cell_type": "code",
   "execution_count": null,
   "id": "5dc1b725",
   "metadata": {},
   "outputs": [],
   "source": [
    "# Multi variate Visualizations\n",
    "plt.figure(figsize=(20,5))\n",
    "sns.set()\n",
    "X.plot(kind='density', subplots=True, layout=(4,5), sharex=False, title='Features Density Distribution')\n",
    "plt.show()"
   ]
  },
  {
   "cell_type": "code",
   "execution_count": null,
   "id": "b4bde841",
   "metadata": {},
   "outputs": [],
   "source": [
    "# View of the data distribution\n",
    "plt.title('BMI-University Staff Density Plot')\n",
    "y.plot(kind='density')\n",
    "\n",
    "plt.show()"
   ]
  },
  {
   "cell_type": "code",
   "execution_count": null,
   "id": "522c69a5",
   "metadata": {},
   "outputs": [],
   "source": [
    "sns.set()\n",
    "plt.hist(y)\n",
    "# Set Title\n",
    "plt.xlabel('BMI')\n",
    " # plt.xlabel('BMI')\n",
    "plt.title('Distribution of BMI')\n",
    "plt.show()"
   ]
  },
  {
   "cell_type": "code",
   "execution_count": null,
   "id": "16ef9da8",
   "metadata": {},
   "outputs": [],
   "source": [
    "# Pictoral equivalence of statistical description\n",
    "X.plot(kind='box', subplots=True, layout=(1,17), sharex=False, sharey=False, legend=True,figsize=(30,10), \n",
    "       title='Features Box Plots')\n",
    "plt.show()"
   ]
  },
  {
   "cell_type": "code",
   "execution_count": null,
   "id": "d4a64a6a",
   "metadata": {},
   "outputs": [],
   "source": [
    "# Compare the result with Boxplots above\n",
    "X.describe().T"
   ]
  },
  {
   "cell_type": "code",
   "execution_count": null,
   "id": "768a4372",
   "metadata": {},
   "outputs": [],
   "source": [
    "plt.figure(figsize=(20,14))\n",
    "sns.set_context('talk', font_scale=1.8)\n",
    "sns.pairplot(X)"
   ]
  },
  {
   "cell_type": "code",
   "execution_count": null,
   "id": "95b1765f",
   "metadata": {},
   "outputs": [],
   "source": [
    "df_gender_map = df.copy()\n",
    "df_gender_map"
   ]
  },
  {
   "cell_type": "code",
   "execution_count": null,
   "id": "cf685b13",
   "metadata": {},
   "outputs": [],
   "source": [
    "# Covert the Gender attribute from integer value (1 & 2) into text format (Male & Female)\n",
    "df_gender_map['gender'] = df_gender_map['gender'].map({1: 'male', 2: 'female'})\n",
    "df_gender_map"
   ]
  },
  {
   "cell_type": "code",
   "execution_count": null,
   "id": "af99aa28",
   "metadata": {},
   "outputs": [],
   "source": [
    "result = pd.concat([df_gender_map, X], axis=1)\n",
    "\n",
    "result"
   ]
  },
  {
   "cell_type": "markdown",
   "id": "96b30751",
   "metadata": {},
   "source": [
    "# Multiple Linear Regression"
   ]
  },
  {
   "cell_type": "code",
   "execution_count": null,
   "id": "c2a18690",
   "metadata": {},
   "outputs": [],
   "source": [
    "# Multiple Linear Regression with Gender Subsets\n",
    "import seaborn as sns\n",
    "plt.figure(figsize=(2,4))\n",
    "sns.set()\n",
    "sns.lmplot(x='weight', y='bmi', data=df, hue='gender', aspect=3, height=7, size=4) # lmplot is the data and regression model fits across a FacetGrid.\n",
    "# using Hue, allows subsets of variables to draw separate facets \n",
    "ax = plt.gca()\n",
    "ax.set_title(\"BMI Linear Regression Based on Gender\", fontsize = 22 )"
   ]
  },
  {
   "cell_type": "markdown",
   "id": "ce12da97",
   "metadata": {},
   "source": [
    "# Interpretations\n",
    "\n",
    "Gender 1 & 2 have different variations.\n",
    "Blue representations are more than the red dots and quite diversed too.\n",
    "Larger number of the red population are concentrated within the 50 and 86 weight range.\n",
    "Observed some blue dot at the very high BMI.\n",
    "Most of the red dot were below the low BMI.\n",
    "The majourist of blue dots are higher in the BMI compared to the red dots.\n",
    "The question is what are the respective gender that the dots represent"
   ]
  },
  {
   "cell_type": "code",
   "execution_count": null,
   "id": "a52e7db3",
   "metadata": {},
   "outputs": [],
   "source": [
    "names = ['level', 'faculty', 'gender', 'age', 'weight', 'height', 'fam_size', 'income',\n",
    "       'daily_eating', 'fruit_intake', 'bmi_cat', 'bmi_aware', 'sleep_hrs', 'exer_freq',\n",
    "       'req_lifestyle', 'bmi_app', 'normal_bmi']"
   ]
  },
  {
   "cell_type": "markdown",
   "id": "74252a12",
   "metadata": {},
   "source": [
    "# Heat Maps"
   ]
  },
  {
   "cell_type": "code",
   "execution_count": null,
   "id": "eb7c8158",
   "metadata": {},
   "outputs": [],
   "source": [
    "plt.figure(figsize=(20,14))\n",
    "plt.title(\"BMI HeatMap\")\n",
    "sns.set_context('paper', font_scale=1.6)\n",
    "bmi_mx = df.corr()\n",
    "\n",
    "sns.heatmap(bmi_mx, annot=True, cmap='Blues')"
   ]
  },
  {
   "cell_type": "code",
   "execution_count": null,
   "id": "f54794bd",
   "metadata": {},
   "outputs": [],
   "source": [
    "bmi_mx2_df= df.copy()"
   ]
  },
  {
   "cell_type": "code",
   "execution_count": null,
   "id": "7adbc559",
   "metadata": {},
   "outputs": [],
   "source": [
    "bmi_mx2 = bmi_mx2_df.drop(['level', 'faculty', 'daily_eating', 'fam_size','bmi_cat','sleep_hrs', 'req_lifestyle'], axis=1)\n",
    "bmi_mx2"
   ]
  },
  {
   "cell_type": "code",
   "execution_count": null,
   "id": "e9b5e5b5",
   "metadata": {},
   "outputs": [],
   "source": [
    "plt.figure(figsize=(20,14))\n",
    "plt.title(\"BMI HeatMap\")\n",
    "sns.set_context('paper', font_scale=1.6)\n",
    "bmi_mx2_cor = bmi_mx2.corr()\n",
    "\n",
    "sns.heatmap(bmi_mx2, annot=True, cmap='Blues')"
   ]
  },
  {
   "cell_type": "markdown",
   "id": "bae6a176",
   "metadata": {},
   "source": [
    "# Splitting Data into Training and Test Sets"
   ]
  },
  {
   "cell_type": "code",
   "execution_count": null,
   "id": "ecda6757",
   "metadata": {},
   "outputs": [],
   "source": [
    " # BMI Target Data\n",
    "X = bmi_mx2_df.drop(['bmi'])\n",
    "X"
   ]
  },
  {
   "cell_type": "code",
   "execution_count": null,
   "id": "31651899",
   "metadata": {},
   "outputs": [],
   "source": [
    " # BMI Target Data\n",
    "y = bmi_mx2_df['bmi']\n",
    "y"
   ]
  },
  {
   "cell_type": "code",
   "execution_count": null,
   "id": "9d4e7581",
   "metadata": {},
   "outputs": [],
   "source": [
    " dataset into training set and test set\n",
    "# 70% training and 30% test\n",
    "X_train, X_test, y_train, y_test = train_test_split(X,y,test_size=0.30,random_state=42)"
   ]
  },
  {
   "cell_type": "code",
   "execution_count": null,
   "id": "17c25858",
   "metadata": {},
   "outputs": [],
   "source": [
    "# Split dataset into training set and test set\n",
    "# 70% training and 30% test\n",
    "X_train, X_test, y_train, y_test = train_test_split(X,y,test_size=0.30,random_state=42)"
   ]
  },
  {
   "cell_type": "code",
   "execution_count": null,
   "id": "7e4fd8c1",
   "metadata": {},
   "outputs": [],
   "source": [
    "X_train.shape\n"
   ]
  },
  {
   "cell_type": "code",
   "execution_count": null,
   "id": "4ce5bf89",
   "metadata": {},
   "outputs": [],
   "source": [
    "X_test.shape # Check the % percentage of total instance"
   ]
  },
  {
   "cell_type": "code",
   "execution_count": null,
   "id": "aac2040e",
   "metadata": {},
   "outputs": [],
   "source": [
    "y_train.shape"
   ]
  },
  {
   "cell_type": "code",
   "execution_count": null,
   "id": "d9fb37e9",
   "metadata": {},
   "outputs": [],
   "source": [
    "y_test.shape"
   ]
  },
  {
   "cell_type": "code",
   "execution_count": null,
   "id": "88e1312e",
   "metadata": {},
   "outputs": [],
   "source": [
    "from sklearn import preprocessing\n"
   ]
  },
  {
   "cell_type": "markdown",
   "id": "9a7524d5",
   "metadata": {},
   "source": [
    "Linear Regression Model¶\n",
    "Linear Regression Steps: Step 1. Import the Model you want to use Step 2. Make an instance of the Model Step 3. Training the model on the data, storing the information learned from the data Model is learning the relationship between X and y. Step 4. Predict the values of new data. Uses the information the model learned during the model training process"
   ]
  },
  {
   "cell_type": "markdown",
   "id": "29494580",
   "metadata": {},
   "source": [
    "Step 1. Import the Model you want to use "
   ]
  },
  {
   "cell_type": "code",
   "execution_count": null,
   "id": "dede1880",
   "metadata": {},
   "outputs": [],
   "source": [
    "from sklearn import linear_model\n",
    "from sklearn.metrics import mean_squared_error, r2_score"
   ]
  },
  {
   "cell_type": "markdown",
   "id": "669ca5cf",
   "metadata": {},
   "source": [
    "Step 2. Make an instance of the Model"
   ]
  },
  {
   "cell_type": "code",
   "execution_count": null,
   "id": "612e48f2",
   "metadata": {},
   "outputs": [],
   "source": [
    "# Create a linear regression instance\n",
    "linregrmodel = linear_model.LinearRegression()"
   ]
  },
  {
   "cell_type": "code",
   "execution_count": null,
   "id": "28d265a2",
   "metadata": {},
   "outputs": [],
   "source": [
    "linregrmodel = linregrmodel.fit(X_train, y_train)"
   ]
  },
  {
   "cell_type": "markdown",
   "id": "f105d81e",
   "metadata": {},
   "source": [
    "Step 3. Predict for Multiple Observations"
   ]
  },
  {
   "cell_type": "code",
   "execution_count": null,
   "id": "0d133b90",
   "metadata": {},
   "outputs": [],
   "source": [
    "# Make predictions using the testing set\n",
    "y_pred = linregrmodel.predict(X_test)\n",
    "# The coefficients\n",
    "print('Coefficients: \\n', linregrmodel.coef_)"
   ]
  },
  {
   "cell_type": "code",
   "execution_count": null,
   "id": "880a9283",
   "metadata": {},
   "outputs": [],
   "source": [
    "y_test"
   ]
  },
  {
   "cell_type": "code",
   "execution_count": null,
   "id": "a7db2393",
   "metadata": {},
   "outputs": [],
   "source": [
    "y_pred"
   ]
  },
  {
   "cell_type": "markdown",
   "id": "20f76529",
   "metadata": {},
   "source": [
    "# Measure Model Performance"
   ]
  },
  {
   "cell_type": "markdown",
   "id": "99ac1660",
   "metadata": {},
   "source": [
    "Linear Regression Measuring Model Performance\n",
    "Regression models use other metrics like R^2, \n",
    "the coefficient of determination to quantify your model's performance.\n",
    "\n",
    "The best possible score is 1.0. \n",
    "A constant model that always predicts the expected value of y, disregarding the input features,\n",
    "would get a R^2 score of 0.0."
   ]
  },
  {
   "cell_type": "code",
   "execution_count": null,
   "id": "9fba4aa5",
   "metadata": {},
   "outputs": [],
   "source": [
    "# The mean squared error\n",
    "print('Mean squared error: %.2f'\n",
    "      % mean_squared_error(y_test, y_pred))\n"
   ]
  },
  {
   "cell_type": "code",
   "execution_count": null,
   "id": "50569b8d",
   "metadata": {},
   "outputs": [],
   "source": [
    "score = linregrmodel.score(X, y) # score returns the coefficient of determination :math:`R^2` of the\n",
    "# prediction. is the residual sum of squares ``((y_true - y_pred)\n",
    "# ** 2).sum()`` and :math:`v` is the total sum of squares ``((y_true -\n",
    "# y_true.mean()) ** 2).sum()``.\n",
    "print(score)"
   ]
  },
  {
   "cell_type": "markdown",
   "id": "ef32998b",
   "metadata": {},
   "source": [
    "You can see that the accuracy score is greater than 0.9, ideally would expect that to be 1 (90% and 100% respectively)R^2"
   ]
  },
  {
   "cell_type": "markdown",
   "id": "48719dd7",
   "metadata": {},
   "source": [
    "# What is the equation of the line for the regression?\n"
   ]
  },
  {
   "cell_type": "code",
   "execution_count": null,
   "id": "0b7f6b0b",
   "metadata": {},
   "outputs": [],
   "source": [
    "linregrmodel.coef_"
   ]
  },
  {
   "cell_type": "markdown",
   "id": "d40d45d5",
   "metadata": {},
   "source": [
    "# The weightings of the Predictors or Independent Variables"
   ]
  },
  {
   "cell_type": "code",
   "execution_count": null,
   "id": "365cb925",
   "metadata": {},
   "outputs": [],
   "source": [
    "X.columns # Match the weighting above with the Columns\n",
    "# Observe following weighting for the following Features:\n",
    "# Age [3]\n",
    "# Income [7]\n",
    "# "
   ]
  },
  {
   "cell_type": "code",
   "execution_count": null,
   "id": "a79ecc51",
   "metadata": {},
   "outputs": [],
   "source": [
    "linregrmodel.intercept_"
   ]
  },
  {
   "cell_type": "markdown",
   "id": "27718635",
   "metadata": {},
   "source": [
    "m = linregrmodel.coef_[0]\n",
    "\n",
    "b = linregrmodel.intercept_\n",
    "\n",
    "following slope intercept form\n",
    "\n",
    "print(\"formula: y = {:.2f}x + {:.2f}\".format(m, b) )"
   ]
  },
  {
   "cell_type": "code",
   "execution_count": null,
   "id": "4c89e6b6",
   "metadata": {},
   "outputs": [],
   "source": [
    "print(\"The linear model is: Y = {:.5} + {:.5}*level + {:.5}*faculty + {:.5}*age+ {:.5}*weight+ {:.5}*height+ {:.5}*fam_size+ {:.5}*income+ {:.5}*daily_eating+ {:.5}*fruit_intake+ {:.5}*bmi_aware+ {:.5}*sleep_hrs+ {:.5}*exer_freq+ {:.5}*req_lifestyle+ {:.5}*bmi_app.format(reg.intercept_[0], reg.coef_[0][0], reg.coef_[0][1], reg.coef_[0][2], reg.coef_[0][3], reg.coef_[0][4], reg.coef_[0][5], reg.coef_[0][6], reg.coef_[0][5]))"
   ]
  },
  {
   "cell_type": "code",
   "execution_count": null,
   "id": "b9adf49d",
   "metadata": {},
   "outputs": [],
   "source": [
    "X.shape\n",
    "', '', '', '', '', '', '', '', '', '', '', '', '', ''"
   ]
  },
  {
   "cell_type": "code",
   "execution_count": null,
   "id": "73e35592",
   "metadata": {},
   "outputs": [],
   "source": [
    "y.shape"
   ]
  },
  {
   "cell_type": "code",
   "execution_count": null,
   "id": "762d2a20",
   "metadata": {},
   "outputs": [],
   "source": [
    "y"
   ]
  },
  {
   "cell_type": "markdown",
   "id": "074c1575",
   "metadata": {},
   "source": [
    "Building of the Decision Tree Model\n",
    "Let's create a Decision Tree Model using Scikit-learn The steps to building and using a model are:\n",
    "\n",
    "Define: Decision Tree - other parameters of the model type are specified\n",
    "                        here.\n",
    "Fit: Use to capture patterns from provided data.\n",
    "\n",
    "Predict: \n",
    "\n",
    "Evaluate: Determine how accurate the models's predictions are"
   ]
  },
  {
   "cell_type": "code",
   "execution_count": null,
   "id": "d3e8773e",
   "metadata": {},
   "outputs": [],
   "source": [
    "from sklearn.tree import DecisionTreeRegressor\n",
    "from sklearn.metrics import mean_squared_error as MSE\n",
    "from sklearn.ensemble import RandomForestRegressor"
   ]
  },
  {
   "cell_type": "code",
   "execution_count": null,
   "id": "9faa0cd9",
   "metadata": {},
   "outputs": [],
   "source": [
    "X_train"
   ]
  },
  {
   "cell_type": "code",
   "execution_count": null,
   "id": "7d675ecf",
   "metadata": {},
   "outputs": [],
   "source": [
    "y_train"
   ]
  },
  {
   "cell_type": "code",
   "execution_count": null,
   "id": "3c8a8358",
   "metadata": {},
   "outputs": [],
   "source": [
    "# Create Decision Tree Object\n",
    "# Stage where to use hyper-paramter\n",
    "logmodel = DecisionTreeRegressor(max_depth=2,\n",
    "                                min_samples_leaf=0.1,\n",
    "                                random_state=3)\n",
    "\n",
    "logmodel = logmodel.fit(X_train, y_train)"
   ]
  },
  {
   "cell_type": "code",
   "execution_count": null,
   "id": "6b5864d4",
   "metadata": {},
   "outputs": [],
   "source": [
    "predictions = logmodel.predict(X_test)"
   ]
  },
  {
   "cell_type": "code",
   "execution_count": null,
   "id": "40438f2b",
   "metadata": {},
   "outputs": [],
   "source": [
    "# Compute test set MSE\n",
    "mse_logmodel = MSE(y_test, predictions)"
   ]
  },
  {
   "cell_type": "code",
   "execution_count": null,
   "id": "e6f10c0c",
   "metadata": {},
   "outputs": [],
   "source": [
    "print(mse_logmodel)"
   ]
  },
  {
   "cell_type": "code",
   "execution_count": null,
   "id": "ca155101",
   "metadata": {},
   "outputs": [],
   "source": [
    "print(mse_logmodel) ### Predicting Accuracy score of our Linear model as 97% "
   ]
  },
  {
   "cell_type": "code",
   "execution_count": null,
   "id": "37ff26e8",
   "metadata": {},
   "outputs": [],
   "source": [
    "# Compute test set RMSE\n",
    "rmse_dt = mse_logmodel**(1/2)"
   ]
  },
  {
   "cell_type": "code",
   "execution_count": null,
   "id": "cc3e770d",
   "metadata": {},
   "outputs": [],
   "source": [
    "print(rmse_dt)"
   ]
  },
  {
   "cell_type": "code",
   "execution_count": null,
   "id": "1758c952",
   "metadata": {},
   "outputs": [],
   "source": [
    "importance = logmodel.feature_importances_\n",
    "importance"
   ]
  },
  {
   "cell_type": "code",
   "execution_count": null,
   "id": "5dd348b2",
   "metadata": {},
   "outputs": [],
   "source": [
    "import matplotlib.pyplot as plt\n",
    "# summarize feature importance\n",
    "for i,v in enumerate(importance):\n",
    "\tprint('Feature: %0d, Score: %.5f' % (i,v))\n",
    "    \n",
    "# plot feature importance\n",
    "plt.bar([x for x in range(len(importance))], importance)\n",
    "plt.show()"
   ]
  },
  {
   "cell_type": "markdown",
   "id": "bcfc8062",
   "metadata": {},
   "source": [
    "# Visualising Decision Tree"
   ]
  },
  {
   "cell_type": "code",
   "execution_count": null,
   "id": "1acdfc28",
   "metadata": {},
   "outputs": [],
   "source": [
    "from sklearn import tree\n",
    "tree.plot_tree(logmodel)\n",
    "plt.show()"
   ]
  },
  {
   "cell_type": "markdown",
   "id": "b845e2b1",
   "metadata": {},
   "source": [
    "# Random Forest Model"
   ]
  },
  {
   "cell_type": "code",
   "execution_count": null,
   "id": "656736b4",
   "metadata": {},
   "outputs": [],
   "source": [
    "# Import the model we are using\n",
    "from sklearn.ensemble import RandomForestRegressor"
   ]
  },
  {
   "cell_type": "code",
   "execution_count": null,
   "id": "9822e3f3",
   "metadata": {},
   "outputs": [],
   "source": [
    "# Instantiate model with decision trees\n",
    "rf = RandomForestRegressor(n_estimators= 500, random_state = 42)"
   ]
  },
  {
   "cell_type": "code",
   "execution_count": null,
   "id": "c35b1802",
   "metadata": {},
   "outputs": [],
   "source": [
    "RandomForestRegressor: The number of trees in the forest"
   ]
  },
  {
   "cell_type": "code",
   "execution_count": null,
   "id": "0aa26c77",
   "metadata": {},
   "outputs": [],
   "source": [
    "# Train the model on training data\n",
    "rf.fit(X, y)"
   ]
  },
  {
   "cell_type": "code",
   "execution_count": null,
   "id": "5b8593de",
   "metadata": {},
   "outputs": [],
   "source": [
    "# Use the forest's predict method on the x\n",
    "predictions = rf.predict(X_test)"
   ]
  },
  {
   "cell_type": "code",
   "execution_count": null,
   "id": "24c03c8e",
   "metadata": {},
   "outputs": [],
   "source": [
    "# Performance Metrics\n",
    "# Manually Calulate the mean absolute of the errors\n",
    "errors = abs(predictions - y_test)\n",
    "print('Average absolute error: ', round(np.mean(errors), 2))"
   ]
  },
  {
   "cell_type": "code",
   "execution_count": null,
   "id": "2842cfc7",
   "metadata": {},
   "outputs": [],
   "source": [
    "# Calculate mean absolute percentage error (MAPE)\n",
    "mape = 100 * (errors / y_test)\n",
    "\n",
    "# Calculate and display accuracy\n",
    "accuracy = 100 -np.mean(mape)\n",
    "print('Accuracy:', round(accuracy, 2), '%.')"
   ]
  },
  {
   "cell_type": "code",
   "execution_count": null,
   "id": "51d931e4",
   "metadata": {},
   "outputs": [],
   "source": [
    "X_test"
   ]
  },
  {
   "cell_type": "code",
   "execution_count": null,
   "id": "d74202a3",
   "metadata": {},
   "outputs": [],
   "source": [
    "from sklearn import svm"
   ]
  },
  {
   "cell_type": "code",
   "execution_count": null,
   "id": "0ccfe071",
   "metadata": {},
   "outputs": [],
   "source": [
    "svr = svm.SVR(kernel='linear',C=1000)\n",
    "svr2 = svm.SVR(kernel='poly',C=1000,degree=2)\n",
    "svr3 = svm.SVR(kernel='poly',C=1000,degree=3)"
   ]
  },
  {
   "cell_type": "code",
   "execution_count": null,
   "id": "2974eb3e",
   "metadata": {},
   "outputs": [],
   "source": [
    "svr.fit(X_train,y_train)\n",
    "svr2.fit(X_train,y_train)\n",
    "svr3.fit(X_train,y_train)"
   ]
  },
  {
   "cell_type": "code",
   "execution_count": null,
   "id": "4bc3e373",
   "metadata": {},
   "outputs": [],
   "source": [
    "y = svr.predict(X_test)\n",
    "y2 = svr2.predict(X_test)\n",
    "y3 = svr3.predict(X_test)"
   ]
  },
  {
   "cell_type": "code",
   "execution_count": null,
   "id": "ca0a9fa2",
   "metadata": {},
   "outputs": [],
   "source": [
    "plt.scatter(X_test, y_test,color='k')"
   ]
  }
 ],
 "metadata": {
  "kernelspec": {
   "display_name": "Python 3",
   "language": "python",
   "name": "python3"
  },
  "language_info": {
   "codemirror_mode": {
    "name": "ipython",
    "version": 3
   },
   "file_extension": ".py",
   "mimetype": "text/x-python",
   "name": "python",
   "nbconvert_exporter": "python",
   "pygments_lexer": "ipython3",
   "version": "3.8.8"
  }
 },
 "nbformat": 4,
 "nbformat_minor": 5
}
