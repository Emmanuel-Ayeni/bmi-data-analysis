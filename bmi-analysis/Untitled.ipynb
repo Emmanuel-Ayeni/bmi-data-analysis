{
 "cells": [
  {
   "cell_type": "markdown",
   "id": "3bc5be2e",
   "metadata": {},
   "source": [
    "# Table of Content"
   ]
  },
  {
   "cell_type": "markdown",
   "id": "cfb4c779",
   "metadata": {},
   "source": [
    "BMI Machine Learning Example of Continuous Target Vectors"
   ]
  },
  {
   "cell_type": "markdown",
   "id": "b785e4e4",
   "metadata": {},
   "source": [
    "Steps to Using Machine Learning\n",
    "Import Libraries\n",
    "Load the Dataset\n",
    "Import Libraries"
   ]
  },
  {
   "cell_type": "markdown",
   "id": "ab726179",
   "metadata": {},
   "source": [
    "# Steps to Using Machine Learning\n",
    "1.Import Libraries\n",
    "2.Load the Dataset\n"
   ]
  },
  {
   "cell_type": "markdown",
   "id": "0b52f454",
   "metadata": {},
   "source": [
    "# Import Libraries"
   ]
  },
  {
   "cell_type": "code",
   "execution_count": null,
   "id": "70225093",
   "metadata": {},
   "outputs": [],
   "source": [
    "import numpy as np # linear algebra\n",
    "import pandas as pd # data processing, CSV file I/O (e.g. pd.read_csv)\n",
    "import statsmodels.api as sm\n",
    "%matplotlib inline\n",
    "import matplotlib.pyplot as plt\n",
    "import seaborn as sns\n",
    "from sklearn.linear_model import LinearRegression\n",
    "from sklearn.metrics import r2_score\n",
    "from sklearn.impute import SimpleImputer\n",
    "from sklearn import model_selection\n",
    "from sklearn.model_selection import train_test_split\n",
    "from sklearn.tree import DecisionTreeRegressor\n",
    "from sklearn.ensemble import RandomForestRegressor"
   ]
  },
  {
   "cell_type": "code",
   "execution_count": null,
   "id": "5109c82a",
   "metadata": {},
   "outputs": [],
   "source": [
    "# Load CSV File into DataFrame"
   ]
  },
  {
   "cell_type": "code",
   "execution_count": null,
   "id": "0e4aa47d",
   "metadata": {},
   "outputs": [],
   "source": [
    "# Import all the Data file into PANDAS DataFrame\n",
    "df = pd.read_csv(\"C:\\\\Users\\\\User\\\\Documents\\\\workspace\\\\Machine_lerning\\\\data\\\\bmiAnalysis.csv\")\n",
    "\n",
    "df"
   ]
  },
  {
   "cell_type": "code",
   "execution_count": null,
   "id": "f9ad2c0e",
   "metadata": {},
   "outputs": [],
   "source": [
    "# To test data loaded correctly\n",
    "df.head()"
   ]
  },
  {
   "cell_type": "code",
   "execution_count": null,
   "id": "3ad2d564",
   "metadata": {},
   "outputs": [],
   "source": [
    "df.info() # Quick glance at the data for Missing data. \"Non-Null Count\" all columns compared.\n",
    "          # Check to make sure no NANs in the dataframe"
   ]
  },
  {
   "cell_type": "code",
   "execution_count": null,
   "id": "6f0e5e67",
   "metadata": {},
   "outputs": [],
   "source": [
    "# Dislay all the data attribute names\n",
    "df.columns\n"
   ]
  },
  {
   "cell_type": "code",
   "execution_count": null,
   "id": "24a6f2cd",
   "metadata": {},
   "outputs": [],
   "source": [
    "# Specifying short names for each attribute to reference them clearly\n",
    "df.columns = ['level', 'faculty', 'gender', 'age', 'weight', 'height', 'fam_size',\n",
    "       'bmi', 'income', 'daily_eating', 'fruit_intake', 'bmi_cat',\n",
    "       'bmi_aware', 'sleep_hrs', 'exer_freq',\n",
    "       'req_lifestyle', 'bmi_app',\n",
    "       'normal_bmi']\n",
    "df.columns"
   ]
  },
  {
   "cell_type": "code",
   "execution_count": null,
   "id": "4ef06abe",
   "metadata": {},
   "outputs": [],
   "source": [
    "# Verify the data attribute names changed\n",
    "df"
   ]
  },
  {
   "cell_type": "code",
   "execution_count": null,
   "id": "6fd59371",
   "metadata": {},
   "outputs": [],
   "source": [
    "level = df.loc[:,'level'].values \n",
    "faculty = df.loc[:,'faculty'].values\n",
    "gender = df.loc[:,'gender'].values\n",
    "age = df.loc[:,'age'].values\n",
    "weight = df.loc[:,'weight'].values\n",
    "height = df.loc[:,'height'].values\n",
    "fam_size = df.loc[:,'fam_size'].values\n",
    "bmi = df.loc[:,'bmi'].values\n",
    "income = df.loc[:,'income'].values\n",
    "daily_eating = df.loc[:,'daily_eating'].values\n",
    "fruit_intake = df.loc[:, 'fruit_intake'].values\n",
    "bmi_cat = df.loc[:, 'bmi_cat'].values\n",
    "bmi_aware = df.loc[:, 'bmi_aware'].values\n",
    "sleep_hrs = df.loc[:, 'sleep_hrs'].values\n",
    "exer_freq = df.loc[:, 'exer_freq'].values\n",
    "req_lifestyle = df.loc[:, 'req_lifestyle'].values\n",
    "bmi_app = df.loc[:, 'bmi_app'].values\n",
    "normal_bmi = df.loc[:, 'normal_bmi'].values"
   ]
  },
  {
   "cell_type": "code",
   "execution_count": null,
   "id": "7fd5e94c",
   "metadata": {},
   "outputs": [],
   "source": [
    "bmi"
   ]
  },
  {
   "cell_type": "code",
   "execution_count": null,
   "id": "523bae39",
   "metadata": {},
   "outputs": [],
   "source": [
    "df.describe() # Basic Data statistics Snapshot"
   ]
  },
  {
   "cell_type": "markdown",
   "id": "cfd5b8b6",
   "metadata": {},
   "source": [
    "Checking and Dealing with Missing Data"
   ]
  },
  {
   "cell_type": "code",
   "execution_count": null,
   "id": "d1771662",
   "metadata": {},
   "outputs": [],
   "source": [
    "# Shape of training data (num_rows, num_columns)\n",
    "print(df.shape)\n",
    "\n",
    "# Number of missing values in each column of training data\n",
    "missing_val_count_by_column = (df.isnull().sum())\n",
    "print(missing_val_count_by_column[missing_val_count_by_column > 0])"
   ]
  },
  {
   "cell_type": "markdown",
   "id": "470adce7",
   "metadata": {},
   "source": [
    "# Extract Features matrix and Target vectors from DataFrame"
   ]
  },
  {
   "cell_type": "code",
   "execution_count": null,
   "id": "fbec4afd",
   "metadata": {},
   "outputs": [],
   "source": [
    "# Extract the Useful Features from the df by excluding the Target Column to have\n",
    "# X Features Matrix\n",
    "\n",
    "X = df.drop(['bmi', 'bmi_cat', 'normal_bmi'], axis=1)\n",
    "X"
   ]
  },
  {
   "cell_type": "code",
   "execution_count": null,
   "id": "7fd6dca8",
   "metadata": {},
   "outputs": [],
   "source": [
    " # BMI Data\n",
    "y = df['bmi']\n",
    "y"
   ]
  },
  {
   "cell_type": "code",
   "execution_count": null,
   "id": "76465302",
   "metadata": {},
   "outputs": [],
   "source": [
    "y.describe()"
   ]
  },
  {
   "cell_type": "markdown",
   "id": "84bd2e84",
   "metadata": {},
   "source": [
    "# Data Visualizations"
   ]
  },
  {
   "cell_type": "code",
   "execution_count": null,
   "id": "2bdcc73f",
   "metadata": {},
   "outputs": [],
   "source": [
    "# Useful to the data using multiple visualizations of the Features data"
   ]
  },
  {
   "cell_type": "code",
   "execution_count": null,
   "id": "5dc1b725",
   "metadata": {},
   "outputs": [],
   "source": [
    "# Multi variate Visualizations\n",
    "plt.figure(figsize=(20,5))\n",
    "sns.set()\n",
    "X.plot(kind='density', subplots=True, layout=(4,5), sharex=False, title='Features Density Distribution')\n",
    "plt.show()"
   ]
  },
  {
   "cell_type": "code",
   "execution_count": null,
   "id": "b4bde841",
   "metadata": {},
   "outputs": [],
   "source": [
    "# View of the data distribution\n",
    "plt.title('BMI-University Staff Density Plot')\n",
    "y.plot(kind='density')\n",
    "\n",
    "plt.show()"
   ]
  },
  {
   "cell_type": "code",
   "execution_count": null,
   "id": "522c69a5",
   "metadata": {},
   "outputs": [],
   "source": [
    "sns.set()\n",
    "plt.hist(y)\n",
    "# Set Title\n",
    "plt.xlabel('BMI')\n",
    " # plt.xlabel('BMI')\n",
    "plt.title('Distribution of BMI')\n",
    "plt.show()"
   ]
  },
  {
   "cell_type": "code",
   "execution_count": null,
   "id": "16ef9da8",
   "metadata": {},
   "outputs": [],
   "source": [
    "# Pictoral equivalence of statistical description\n",
    "X.plot(kind='box', subplots=True, layout=(1,17), sharex=False, sharey=False, legend=True,figsize=(30,10), \n",
    "       title='Features Box Plots')\n",
    "plt.show()"
   ]
  },
  {
   "cell_type": "code",
   "execution_count": null,
   "id": "d4a64a6a",
   "metadata": {},
   "outputs": [],
   "source": [
    "# Compare the result with Boxplots above\n",
    "X.describe().T"
   ]
  },
  {
   "cell_type": "code",
   "execution_count": null,
   "id": "768a4372",
   "metadata": {},
   "outputs": [],
   "source": [
    "plt.figure(figsize=(20,14))\n",
    "sns.set_context('talk', font_scale=1.8)\n",
    "sns.pairplot(X)"
   ]
  },
  {
   "cell_type": "code",
   "execution_count": null,
   "id": "95b1765f",
   "metadata": {},
   "outputs": [],
   "source": [
    "df_gender_map = df.copy()\n",
    "df_gender_map"
   ]
  },
  {
   "cell_type": "code",
   "execution_count": null,
   "id": "cf685b13",
   "metadata": {},
   "outputs": [],
   "source": [
    "# Covert the Gender attribute from integer value (1 & 2) into text format (Male & Female)\n",
    "df_gender_map['gender'] = df_gender_map['gender'].map({1: 'male', 2: 'female'})\n",
    "df_gender_map"
   ]
  },
  {
   "cell_type": "code",
   "execution_count": null,
   "id": "af99aa28",
   "metadata": {},
   "outputs": [],
   "source": [
    "result = pd.concat([df_gender_map, X], axis=1)\n",
    "\n",
    "result"
   ]
  },
  {
   "cell_type": "markdown",
   "id": "96b30751",
   "metadata": {},
   "source": [
    "# Multiple Linear Regression"
   ]
  },
  {
   "cell_type": "code",
   "execution_count": null,
   "id": "c2a18690",
   "metadata": {},
   "outputs": [],
   "source": [
    "# Multiple Linear Regression with Gender Subsets\n",
    "import seaborn as sns\n",
    "plt.figure(figsize=(2,4))\n",
    "sns.set()\n",
    "sns.lmplot(x='weight', y='bmi', data=df, hue='gender', aspect=3, height=7, size=4) # lmplot is the data and regression model fits across a FacetGrid.\n",
    "# using Hue, allows subsets of variables to draw separate facets \n",
    "ax = plt.gca()\n",
    "ax.set_title(\"BMI Linear Regression Based on Gender\", fontsize = 22 )"
   ]
  },
  {
   "cell_type": "markdown",
   "id": "ce12da97",
   "metadata": {},
   "source": [
    "# Interpretations\n",
    "\n",
    "Gender 1 & 2 have different variations.\n",
    "Blue representations are more than the red dots and quite diversed too.\n",
    "Larger number of the red population are concentrated within the 50 and 86 weight range.\n",
    "Observed some blue dot at the very high BMI.\n",
    "Most of the red dot were below the low BMI.\n",
    "The majourist of blue dots are higher in the BMI compared to the red dots.\n",
    "The question is what are the respective gender that the dots represent"
   ]
  },
  {
   "cell_type": "code",
   "execution_count": null,
   "id": "a52e7db3",
   "metadata": {},
   "outputs": [],
   "source": [
    "names = ['level', 'faculty', 'gender', 'age', 'weight', 'height', 'fam_size', 'income',\n",
    "       'daily_eating', 'fruit_intake', 'bmi_cat', 'bmi_aware', 'sleep_hrs', 'exer_freq',\n",
    "       'req_lifestyle', 'bmi_app', 'normal_bmi']"
   ]
  },
  {
   "cell_type": "markdown",
   "id": "74252a12",
   "metadata": {},
   "source": [
    "# Heat Maps"
   ]
  },
  {
   "cell_type": "code",
   "execution_count": null,
   "id": "eb7c8158",
   "metadata": {},
   "outputs": [],
   "source": [
    "plt.figure(figsize=(20,14))\n",
    "plt.title(\"BMI HeatMap\")\n",
    "sns.set_context('paper', font_scale=1.6)\n",
    "bmi_mx = df.corr()\n",
    "\n",
    "sns.heatmap(bmi_mx, annot=True, cmap='Blues')"
   ]
  },
  {
   "cell_type": "code",
   "execution_count": null,
   "id": "f54794bd",
   "metadata": {},
   "outputs": [],
   "source": [
    "bmi_mx2_df= df.copy()"
   ]
  },
  {
   "cell_type": "code",
   "execution_count": null,
   "id": "7adbc559",
   "metadata": {},
   "outputs": [],
   "source": [
    "bmi_mx2 = bmi_mx2_df.drop(['level', 'faculty', 'daily_eating', 'fam_size','bmi_cat','sleep_hrs', 'req_lifestyle'], axis=1)\n",
    "bmi_mx2"
   ]
  },
  {
   "cell_type": "code",
   "execution_count": null,
   "id": "e9b5e5b5",
   "metadata": {},
   "outputs": [],
   "source": [
    "plt.figure(figsize=(20,14))\n",
    "plt.title(\"BMI HeatMap\")\n",
    "sns.set_context('paper', font_scale=1.6)\n",
    "bmi_mx2_cor = bmi_mx2.corr()\n",
    "\n",
    "sns.heatmap(bmi_mx2, annot=True, cmap='Blues')"
   ]
  },
  {
   "cell_type": "markdown",
   "id": "bae6a176",
   "metadata": {},
   "source": [
    "# Splitting Data into Training and Test Sets"
   ]
  },
  {
   "cell_type": "code",
   "execution_count": null,
   "id": "ecda6757",
   "metadata": {},
   "outputs": [],
   "source": [
    " # BMI Target Data\n",
    "X = bmi_mx2_df.drop(['bmi'])\n",
    "X"
   ]
  },
  {
   "cell_type": "code",
   "execution_count": null,
   "id": "17c25858",
   "metadata": {},
   "outputs": [],
   "source": [
    "# Split dataset into training set and test set\n",
    "# 70% training and 30% test\n",
    "X_train, X_test, y_train, y_test = train_test_split(X,y,test_size=0.30,random_state=42)"
   ]
  },
  {
   "cell_type": "code",
   "execution_count": null,
   "id": "7e4fd8c1",
   "metadata": {},
   "outputs": [],
   "source": [
    "X_train.shape\n"
   ]
  },
  {
   "cell_type": "code",
   "execution_count": null,
   "id": "4ce5bf89",
   "metadata": {},
   "outputs": [],
   "source": [
    "X_test.shape # Check the % percentage of total instance"
   ]
  }
 ],
 "metadata": {
  "kernelspec": {
   "display_name": "Python 3",
   "language": "python",
   "name": "python3"
  },
  "language_info": {
   "codemirror_mode": {
    "name": "ipython",
    "version": 3
   },
   "file_extension": ".py",
   "mimetype": "text/x-python",
   "name": "python",
   "nbconvert_exporter": "python",
   "pygments_lexer": "ipython3",
   "version": "3.8.8"
  }
 },
 "nbformat": 4,
 "nbformat_minor": 5
}
